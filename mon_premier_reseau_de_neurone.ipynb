{
 "cells": [
  {
   "cell_type": "markdown",
   "metadata": {},
   "source": [
    "# Création d'un model de réseau de neurone\n",
    "Dans ce tuto, nous allons réaliser un model de réseau de neurone en **Deep Learning** qui va si un patient à du cancer ou pas,\n",
    "pour cela notre model sera entrainer sur la dataset **Breast cancer** de **wisconsin** "
   ]
  },
  {
   "cell_type": "markdown",
   "metadata": {},
   "source": [
    "## Importation des package"
   ]
  },
  {
   "cell_type": "code",
   "execution_count": 18,
   "metadata": {},
   "outputs": [],
   "source": [
    "from sklearn import datasets\n",
    "from sklearn.preprocessing import StandardScaler\n",
    "from sklearn.model_selection import train_test_split\n",
    "import tensorflow as tf\n",
    "import numpy as np\n",
    "import pandas as pd"
   ]
  },
  {
   "cell_type": "markdown",
   "metadata": {},
   "source": [
    "## Création de la dataset"
   ]
  },
  {
   "cell_type": "code",
   "execution_count": 19,
   "metadata": {},
   "outputs": [
    {
     "name": "stdout",
     "output_type": "stream",
     "text": [
      ".. _breast_cancer_dataset:\n",
      "\n",
      "Breast cancer wisconsin (diagnostic) dataset\n",
      "--------------------------------------------\n",
      "\n",
      "**Data Set Characteristics:**\n",
      "\n",
      "    :Number of Instances: 569\n",
      "\n",
      "    :Number of Attributes: 30 numeric, predictive attributes and the class\n",
      "\n",
      "    :Attribute Information:\n",
      "        - radius (mean of distances from center to points on the perimeter)\n",
      "        - texture (standard deviation of gray-scale values)\n",
      "        - perimeter\n",
      "        - area\n",
      "        - smoothness (local variation in radius lengths)\n",
      "        - compactness (perimeter^2 / area - 1.0)\n",
      "        - concavity (severity of concave portions of the contour)\n",
      "        - concave points (number of concave portions of the contour)\n",
      "        - symmetry \n",
      "        - fractal dimension (\"coastline approximation\" - 1)\n",
      "\n",
      "        The mean, standard error, and \"worst\" or largest (mean of the three\n",
      "        largest values) of these features were computed for each image,\n",
      "        resulting in 30 features.  For instance, field 3 is Mean Radius, field\n",
      "        13 is Radius SE, field 23 is Worst Radius.\n",
      "\n",
      "        - class:\n",
      "                - WDBC-Malignant\n",
      "                - WDBC-Benign\n",
      "\n",
      "    :Summary Statistics:\n",
      "\n",
      "    ===================================== ====== ======\n",
      "                                           Min    Max\n",
      "    ===================================== ====== ======\n",
      "    radius (mean):                        6.981  28.11\n",
      "    texture (mean):                       9.71   39.28\n",
      "    perimeter (mean):                     43.79  188.5\n",
      "    area (mean):                          143.5  2501.0\n",
      "    smoothness (mean):                    0.053  0.163\n",
      "    compactness (mean):                   0.019  0.345\n",
      "    concavity (mean):                     0.0    0.427\n",
      "    concave points (mean):                0.0    0.201\n",
      "    symmetry (mean):                      0.106  0.304\n",
      "    fractal dimension (mean):             0.05   0.097\n",
      "    radius (standard error):              0.112  2.873\n",
      "    texture (standard error):             0.36   4.885\n",
      "    perimeter (standard error):           0.757  21.98\n",
      "    area (standard error):                6.802  542.2\n",
      "    smoothness (standard error):          0.002  0.031\n",
      "    compactness (standard error):         0.002  0.135\n",
      "    concavity (standard error):           0.0    0.396\n",
      "    concave points (standard error):      0.0    0.053\n",
      "    symmetry (standard error):            0.008  0.079\n",
      "    fractal dimension (standard error):   0.001  0.03\n",
      "    radius (worst):                       7.93   36.04\n",
      "    texture (worst):                      12.02  49.54\n",
      "    perimeter (worst):                    50.41  251.2\n",
      "    area (worst):                         185.2  4254.0\n",
      "    smoothness (worst):                   0.071  0.223\n",
      "    compactness (worst):                  0.027  1.058\n",
      "    concavity (worst):                    0.0    1.252\n",
      "    concave points (worst):               0.0    0.291\n",
      "    symmetry (worst):                     0.156  0.664\n",
      "    fractal dimension (worst):            0.055  0.208\n",
      "    ===================================== ====== ======\n",
      "\n",
      "    :Missing Attribute Values: None\n",
      "\n",
      "    :Class Distribution: 212 - Malignant, 357 - Benign\n",
      "\n",
      "    :Creator:  Dr. William H. Wolberg, W. Nick Street, Olvi L. Mangasarian\n",
      "\n",
      "    :Donor: Nick Street\n",
      "\n",
      "    :Date: November, 1995\n",
      "\n",
      "This is a copy of UCI ML Breast Cancer Wisconsin (Diagnostic) datasets.\n",
      "https://goo.gl/U2Uwz2\n",
      "\n",
      "Features are computed from a digitized image of a fine needle\n",
      "aspirate (FNA) of a breast mass.  They describe\n",
      "characteristics of the cell nuclei present in the image.\n",
      "\n",
      "Separating plane described above was obtained using\n",
      "Multisurface Method-Tree (MSM-T) [K. P. Bennett, \"Decision Tree\n",
      "Construction Via Linear Programming.\" Proceedings of the 4th\n",
      "Midwest Artificial Intelligence and Cognitive Science Society,\n",
      "pp. 97-101, 1992], a classification method which uses linear\n",
      "programming to construct a decision tree.  Relevant features\n",
      "were selected using an exhaustive search in the space of 1-4\n",
      "features and 1-3 separating planes.\n",
      "\n",
      "The actual linear program used to obtain the separating plane\n",
      "in the 3-dimensional space is that described in:\n",
      "[K. P. Bennett and O. L. Mangasarian: \"Robust Linear\n",
      "Programming Discrimination of Two Linearly Inseparable Sets\",\n",
      "Optimization Methods and Software 1, 1992, 23-34].\n",
      "\n",
      "This database is also available through the UW CS ftp server:\n",
      "\n",
      "ftp ftp.cs.wisc.edu\n",
      "cd math-prog/cpo-dataset/machine-learn/WDBC/\n",
      "\n",
      ".. topic:: References\n",
      "\n",
      "   - W.N. Street, W.H. Wolberg and O.L. Mangasarian. Nuclear feature extraction \n",
      "     for breast tumor diagnosis. IS&T/SPIE 1993 International Symposium on \n",
      "     Electronic Imaging: Science and Technology, volume 1905, pages 861-870,\n",
      "     San Jose, CA, 1993.\n",
      "   - O.L. Mangasarian, W.N. Street and W.H. Wolberg. Breast cancer diagnosis and \n",
      "     prognosis via linear programming. Operations Research, 43(4), pages 570-577, \n",
      "     July-August 1995.\n",
      "   - W.H. Wolberg, W.N. Street, and O.L. Mangasarian. Machine learning techniques\n",
      "     to diagnose breast cancer from fine-needle aspirates. Cancer Letters 77 (1994) \n",
      "     163-171.\n"
     ]
    }
   ],
   "source": [
    "df = datasets.load_breast_cancer()\n",
    "print(df.DESCR)"
   ]
  },
  {
   "cell_type": "code",
   "execution_count": 20,
   "metadata": {},
   "outputs": [
    {
     "name": "stdout",
     "output_type": "stream",
     "text": [
      "X=(569, 30) et y=(569,)\n"
     ]
    }
   ],
   "source": [
    "X=df.data\n",
    "y=df.target\n",
    "print(f'X={X.shape} et y={y.shape}')"
   ]
  },
  {
   "cell_type": "markdown",
   "metadata": {},
   "source": [
    "## Data préprocessing(Ou pré traitement des données)"
   ]
  },
  {
   "cell_type": "code",
   "execution_count": 84,
   "metadata": {},
   "outputs": [
    {
     "data": {
      "text/plain": [
       "array([[1.799e+01, 1.038e+01, 1.228e+02, 1.001e+03, 1.184e-01, 2.776e-01,\n",
       "        3.001e-01, 1.471e-01, 2.419e-01, 7.871e-02, 1.095e+00, 9.053e-01,\n",
       "        8.589e+00, 1.534e+02, 6.399e-03, 4.904e-02, 5.373e-02, 1.587e-02,\n",
       "        3.003e-02, 6.193e-03, 2.538e+01, 1.733e+01, 1.846e+02, 2.019e+03,\n",
       "        1.622e-01, 6.656e-01, 7.119e-01, 2.654e-01, 4.601e-01, 1.189e-01],\n",
       "       [2.057e+01, 1.777e+01, 1.329e+02, 1.326e+03, 8.474e-02, 7.864e-02,\n",
       "        8.690e-02, 7.017e-02, 1.812e-01, 5.667e-02, 5.435e-01, 7.339e-01,\n",
       "        3.398e+00, 7.408e+01, 5.225e-03, 1.308e-02, 1.860e-02, 1.340e-02,\n",
       "        1.389e-02, 3.532e-03, 2.499e+01, 2.341e+01, 1.588e+02, 1.956e+03,\n",
       "        1.238e-01, 1.866e-01, 2.416e-01, 1.860e-01, 2.750e-01, 8.902e-02]])"
      ]
     },
     "execution_count": 84,
     "metadata": {},
     "output_type": "execute_result"
    }
   ],
   "source": [
    "## Le variable indépendantes\n",
    "df.data[:2]"
   ]
  },
  {
   "cell_type": "code",
   "execution_count": 74,
   "metadata": {},
   "outputs": [
    {
     "name": "stdout",
     "output_type": "stream",
     "text": [
      "Il y a 0 valeur(s) manquante(s)\n"
     ]
    }
   ],
   "source": [
    "missing_values=0\n",
    "for i,v in enumerate(X.isna()):\n",
    "    for ii in X.isna()[i]:\n",
    "        if ii == True:\n",
    "            missing_values += 1            \n",
    "print(f'Il y a {missing_values} valeur(s) manquante(s)')"
   ]
  },
  {
   "cell_type": "code",
   "execution_count": 88,
   "metadata": {},
   "outputs": [
    {
     "data": {
      "text/plain": [
       "array([0, 0, 0, 0, 0, 0, 0, 0, 0, 0, 0, 0, 0, 0, 0, 0, 0, 0, 0, 1])"
      ]
     },
     "execution_count": 88,
     "metadata": {},
     "output_type": "execute_result"
    }
   ],
   "source": [
    "## les target value ou variables dependnce ou à predire\n",
    "y = df.target\n",
    "y[:20]"
   ]
  },
  {
   "cell_type": "markdown",
   "metadata": {},
   "source": [
    "## Standardisation des valeurs"
   ]
  },
  {
   "cell_type": "code",
   "execution_count": 85,
   "metadata": {},
   "outputs": [],
   "source": [
    "scaler = StandardScaler()"
   ]
  },
  {
   "cell_type": "code",
   "execution_count": 98,
   "metadata": {},
   "outputs": [],
   "source": [
    "X_scled = scaler.fit_transform(X, y)"
   ]
  },
  {
   "cell_type": "markdown",
   "metadata": {},
   "source": [
    "## Création de train et test set"
   ]
  },
  {
   "cell_type": "code",
   "execution_count": 101,
   "metadata": {},
   "outputs": [],
   "source": [
    "x_train, x_test, y_train, y_test = train_test_split(X_scled, y, test_size=0.25, random_state=42 )"
   ]
  },
  {
   "cell_type": "code",
   "execution_count": 104,
   "metadata": {},
   "outputs": [
    {
     "name": "stdout",
     "output_type": "stream",
     "text": [
      "La tailles de train set: 426 \n",
      "La tailles de test set: 143\n"
     ]
    }
   ],
   "source": [
    "print(f'La tailles de train set: {x_train.shape[0]} \\nLa tailles de test set: {x_test.shape[0]}')"
   ]
  },
  {
   "cell_type": "markdown",
   "metadata": {},
   "source": [
    "## Création de modèle de réseau de neurone"
   ]
  },
  {
   "cell_type": "code",
   "execution_count": 148,
   "metadata": {},
   "outputs": [],
   "source": [
    "model = tf.keras.models.Sequential()"
   ]
  },
  {
   "cell_type": "code",
   "execution_count": 149,
   "metadata": {},
   "outputs": [],
   "source": [
    "couche_entree = tf.keras.layers.Dense(units=15, activation='relu', kernel_initializer=\"uniform\", input_dim=30)\n",
    "# couche_cachee = tf.keras.layers.Dense(units=15, activation='relu', kernel_initializer=\"uniform\")\n",
    "couche_sortie = tf.keras.layers.Dense(units=1, activation='sigmoid', kernel_initializer=\"uniform\")"
   ]
  },
  {
   "cell_type": "code",
   "execution_count": 150,
   "metadata": {},
   "outputs": [],
   "source": [
    "model.add(couche_entree)\n",
    "# model.add(couche_cachee)\n",
    "model.add(couche_sortie)"
   ]
  },
  {
   "cell_type": "code",
   "execution_count": 151,
   "metadata": {},
   "outputs": [],
   "source": [
    "model.compile(optimizer='adam', loss=\"binary_crossentropy\", metrics=['binary_accuracy'])"
   ]
  },
  {
   "cell_type": "code",
   "execution_count": 152,
   "metadata": {},
   "outputs": [
    {
     "name": "stdout",
     "output_type": "stream",
     "text": [
      "Model: \"sequential_2\"\n",
      "_________________________________________________________________\n",
      "Layer (type)                 Output Shape              Param #   \n",
      "=================================================================\n",
      "dense_20 (Dense)             (None, 15)                465       \n",
      "_________________________________________________________________\n",
      "dense_21 (Dense)             (None, 1)                 16        \n",
      "=================================================================\n",
      "Total params: 481\n",
      "Trainable params: 481\n",
      "Non-trainable params: 0\n",
      "_________________________________________________________________\n"
     ]
    }
   ],
   "source": [
    "model.summary()"
   ]
  },
  {
   "cell_type": "code",
   "execution_count": 153,
   "metadata": {},
   "outputs": [
    {
     "name": "stdout",
     "output_type": "stream",
     "text": [
      "Epoch 1/100\n",
      "14/14 [==============================] - 0s 3ms/step - loss: 0.6838 - binary_accuracy: 0.8357\n",
      "Epoch 2/100\n",
      "14/14 [==============================] - 0s 1ms/step - loss: 0.6544 - binary_accuracy: 0.9319\n",
      "Epoch 3/100\n",
      "14/14 [==============================] - 0s 2ms/step - loss: 0.6089 - binary_accuracy: 0.9272\n",
      "Epoch 4/100\n",
      "14/14 [==============================] - 0s 2ms/step - loss: 0.5503 - binary_accuracy: 0.9249\n",
      "Epoch 5/100\n",
      "14/14 [==============================] - 0s 2ms/step - loss: 0.4857 - binary_accuracy: 0.9319\n",
      "Epoch 6/100\n",
      "14/14 [==============================] - 0s 1ms/step - loss: 0.4257 - binary_accuracy: 0.9390\n",
      "Epoch 7/100\n",
      "14/14 [==============================] - 0s 2ms/step - loss: 0.3731 - binary_accuracy: 0.9484\n",
      "Epoch 8/100\n",
      "14/14 [==============================] - 0s 2ms/step - loss: 0.3276 - binary_accuracy: 0.9554\n",
      "Epoch 9/100\n",
      "14/14 [==============================] - 0s 2ms/step - loss: 0.2900 - binary_accuracy: 0.9601\n",
      "Epoch 10/100\n",
      "14/14 [==============================] - 0s 3ms/step - loss: 0.2588 - binary_accuracy: 0.9648\n",
      "Epoch 11/100\n",
      "14/14 [==============================] - 0s 2ms/step - loss: 0.2335 - binary_accuracy: 0.9648\n",
      "Epoch 12/100\n",
      "14/14 [==============================] - 0s 2ms/step - loss: 0.2129 - binary_accuracy: 0.9648\n",
      "Epoch 13/100\n",
      "14/14 [==============================] - 0s 2ms/step - loss: 0.1958 - binary_accuracy: 0.9671\n",
      "Epoch 14/100\n",
      "14/14 [==============================] - 0s 2ms/step - loss: 0.1819 - binary_accuracy: 0.9718\n",
      "Epoch 15/100\n",
      "14/14 [==============================] - 0s 2ms/step - loss: 0.1704 - binary_accuracy: 0.9718\n",
      "Epoch 16/100\n",
      "14/14 [==============================] - 0s 2ms/step - loss: 0.1600 - binary_accuracy: 0.9718\n",
      "Epoch 17/100\n",
      "14/14 [==============================] - 0s 2ms/step - loss: 0.1512 - binary_accuracy: 0.9765\n",
      "Epoch 18/100\n",
      "14/14 [==============================] - 0s 2ms/step - loss: 0.1437 - binary_accuracy: 0.9765\n",
      "Epoch 19/100\n",
      "14/14 [==============================] - 0s 2ms/step - loss: 0.1364 - binary_accuracy: 0.9742\n",
      "Epoch 20/100\n",
      "14/14 [==============================] - 0s 2ms/step - loss: 0.1301 - binary_accuracy: 0.9742\n",
      "Epoch 21/100\n",
      "14/14 [==============================] - 0s 2ms/step - loss: 0.1240 - binary_accuracy: 0.9742\n",
      "Epoch 22/100\n",
      "14/14 [==============================] - 0s 2ms/step - loss: 0.1187 - binary_accuracy: 0.9742\n",
      "Epoch 23/100\n",
      "14/14 [==============================] - 0s 3ms/step - loss: 0.1137 - binary_accuracy: 0.9765\n",
      "Epoch 24/100\n",
      "14/14 [==============================] - 0s 2ms/step - loss: 0.1093 - binary_accuracy: 0.9765\n",
      "Epoch 25/100\n",
      "14/14 [==============================] - 0s 2ms/step - loss: 0.1056 - binary_accuracy: 0.9765\n",
      "Epoch 26/100\n",
      "14/14 [==============================] - 0s 2ms/step - loss: 0.1020 - binary_accuracy: 0.9812\n",
      "Epoch 27/100\n",
      "14/14 [==============================] - 0s 1ms/step - loss: 0.0989 - binary_accuracy: 0.9812\n",
      "Epoch 28/100\n",
      "14/14 [==============================] - 0s 2ms/step - loss: 0.0960 - binary_accuracy: 0.9812\n",
      "Epoch 29/100\n",
      "14/14 [==============================] - 0s 2ms/step - loss: 0.0934 - binary_accuracy: 0.9812\n",
      "Epoch 30/100\n",
      "14/14 [==============================] - 0s 2ms/step - loss: 0.0911 - binary_accuracy: 0.9789\n",
      "Epoch 31/100\n",
      "14/14 [==============================] - 0s 2ms/step - loss: 0.0890 - binary_accuracy: 0.9789\n",
      "Epoch 32/100\n",
      "14/14 [==============================] - 0s 2ms/step - loss: 0.0871 - binary_accuracy: 0.9812\n",
      "Epoch 33/100\n",
      "14/14 [==============================] - 0s 2ms/step - loss: 0.0851 - binary_accuracy: 0.9812\n",
      "Epoch 34/100\n",
      "14/14 [==============================] - 0s 2ms/step - loss: 0.0830 - binary_accuracy: 0.9812\n",
      "Epoch 35/100\n",
      "14/14 [==============================] - 0s 2ms/step - loss: 0.0809 - binary_accuracy: 0.9812\n",
      "Epoch 36/100\n",
      "14/14 [==============================] - 0s 2ms/step - loss: 0.0792 - binary_accuracy: 0.9812\n",
      "Epoch 37/100\n",
      "14/14 [==============================] - 0s 2ms/step - loss: 0.0779 - binary_accuracy: 0.9812\n",
      "Epoch 38/100\n",
      "14/14 [==============================] - 0s 2ms/step - loss: 0.0761 - binary_accuracy: 0.9812\n",
      "Epoch 39/100\n",
      "14/14 [==============================] - 0s 2ms/step - loss: 0.0744 - binary_accuracy: 0.9812\n",
      "Epoch 40/100\n",
      "14/14 [==============================] - 0s 2ms/step - loss: 0.0732 - binary_accuracy: 0.9812\n",
      "Epoch 41/100\n",
      "14/14 [==============================] - 0s 2ms/step - loss: 0.0719 - binary_accuracy: 0.9836\n",
      "Epoch 42/100\n",
      "14/14 [==============================] - 0s 2ms/step - loss: 0.0707 - binary_accuracy: 0.9836\n",
      "Epoch 43/100\n",
      "14/14 [==============================] - 0s 2ms/step - loss: 0.0696 - binary_accuracy: 0.9836\n",
      "Epoch 44/100\n",
      "14/14 [==============================] - ETA: 0s - loss: 0.0427 - binary_accuracy: 1.000 - 0s 2ms/step - loss: 0.0686 - binary_accuracy: 0.9836\n",
      "Epoch 45/100\n",
      "14/14 [==============================] - 0s 2ms/step - loss: 0.0676 - binary_accuracy: 0.9836\n",
      "Epoch 46/100\n",
      "14/14 [==============================] - 0s 2ms/step - loss: 0.0668 - binary_accuracy: 0.9836\n",
      "Epoch 47/100\n",
      "14/14 [==============================] - 0s 2ms/step - loss: 0.0659 - binary_accuracy: 0.9836\n",
      "Epoch 48/100\n",
      "14/14 [==============================] - 0s 2ms/step - loss: 0.0651 - binary_accuracy: 0.9836\n",
      "Epoch 49/100\n",
      "14/14 [==============================] - 0s 2ms/step - loss: 0.0642 - binary_accuracy: 0.9836\n",
      "Epoch 50/100\n",
      "14/14 [==============================] - 0s 2ms/step - loss: 0.0634 - binary_accuracy: 0.9836\n",
      "Epoch 51/100\n",
      "14/14 [==============================] - 0s 2ms/step - loss: 0.0627 - binary_accuracy: 0.9836\n",
      "Epoch 52/100\n",
      "14/14 [==============================] - 0s 2ms/step - loss: 0.0619 - binary_accuracy: 0.9836\n",
      "Epoch 53/100\n",
      "14/14 [==============================] - 0s 2ms/step - loss: 0.0613 - binary_accuracy: 0.9836\n",
      "Epoch 54/100\n",
      "14/14 [==============================] - 0s 2ms/step - loss: 0.0604 - binary_accuracy: 0.9836\n",
      "Epoch 55/100\n",
      "14/14 [==============================] - 0s 2ms/step - loss: 0.0599 - binary_accuracy: 0.9836\n",
      "Epoch 56/100\n",
      "14/14 [==============================] - 0s 2ms/step - loss: 0.0593 - binary_accuracy: 0.9836\n",
      "Epoch 57/100\n",
      "14/14 [==============================] - 0s 2ms/step - loss: 0.0586 - binary_accuracy: 0.9836\n",
      "Epoch 58/100\n",
      "14/14 [==============================] - 0s 2ms/step - loss: 0.0581 - binary_accuracy: 0.9836\n",
      "Epoch 59/100\n",
      "14/14 [==============================] - 0s 2ms/step - loss: 0.0575 - binary_accuracy: 0.9836\n",
      "Epoch 60/100\n",
      "14/14 [==============================] - 0s 3ms/step - loss: 0.0570 - binary_accuracy: 0.9836\n",
      "Epoch 61/100\n",
      "14/14 [==============================] - 0s 2ms/step - loss: 0.0565 - binary_accuracy: 0.9836\n",
      "Epoch 62/100\n",
      "14/14 [==============================] - 0s 2ms/step - loss: 0.0560 - binary_accuracy: 0.9836\n",
      "Epoch 63/100\n",
      "14/14 [==============================] - 0s 2ms/step - loss: 0.0556 - binary_accuracy: 0.9836\n",
      "Epoch 64/100\n",
      "14/14 [==============================] - 0s 1ms/step - loss: 0.0550 - binary_accuracy: 0.9836\n",
      "Epoch 65/100\n",
      "14/14 [==============================] - 0s 2ms/step - loss: 0.0545 - binary_accuracy: 0.9836\n",
      "Epoch 66/100\n",
      "14/14 [==============================] - 0s 1ms/step - loss: 0.0541 - binary_accuracy: 0.9836\n",
      "Epoch 67/100\n",
      "14/14 [==============================] - 0s 1ms/step - loss: 0.0537 - binary_accuracy: 0.9836\n",
      "Epoch 68/100\n",
      "14/14 [==============================] - 0s 2ms/step - loss: 0.0533 - binary_accuracy: 0.9836\n",
      "Epoch 69/100\n",
      "14/14 [==============================] - 0s 2ms/step - loss: 0.0528 - binary_accuracy: 0.9836\n",
      "Epoch 70/100\n",
      "14/14 [==============================] - 0s 2ms/step - loss: 0.0524 - binary_accuracy: 0.9836\n",
      "Epoch 71/100\n",
      "14/14 [==============================] - 0s 2ms/step - loss: 0.0520 - binary_accuracy: 0.9836\n",
      "Epoch 72/100\n",
      "14/14 [==============================] - 0s 1ms/step - loss: 0.0517 - binary_accuracy: 0.9836\n",
      "Epoch 73/100\n",
      "14/14 [==============================] - 0s 2ms/step - loss: 0.0512 - binary_accuracy: 0.9836\n",
      "Epoch 74/100\n",
      "14/14 [==============================] - 0s 2ms/step - loss: 0.0508 - binary_accuracy: 0.9836\n",
      "Epoch 75/100\n",
      "14/14 [==============================] - 0s 2ms/step - loss: 0.0506 - binary_accuracy: 0.9836\n",
      "Epoch 76/100\n",
      "14/14 [==============================] - 0s 1ms/step - loss: 0.0501 - binary_accuracy: 0.9836\n",
      "Epoch 77/100\n"
     ]
    },
    {
     "name": "stdout",
     "output_type": "stream",
     "text": [
      "14/14 [==============================] - 0s 2ms/step - loss: 0.0498 - binary_accuracy: 0.9836\n",
      "Epoch 78/100\n",
      "14/14 [==============================] - 0s 1ms/step - loss: 0.0495 - binary_accuracy: 0.9836\n",
      "Epoch 79/100\n",
      "14/14 [==============================] - 0s 1ms/step - loss: 0.0491 - binary_accuracy: 0.9836\n",
      "Epoch 80/100\n",
      "14/14 [==============================] - 0s 1ms/step - loss: 0.0490 - binary_accuracy: 0.9836\n",
      "Epoch 81/100\n",
      "14/14 [==============================] - 0s 2ms/step - loss: 0.0485 - binary_accuracy: 0.9836\n",
      "Epoch 82/100\n",
      "14/14 [==============================] - 0s 2ms/step - loss: 0.0481 - binary_accuracy: 0.9836\n",
      "Epoch 83/100\n",
      "14/14 [==============================] - 0s 2ms/step - loss: 0.0477 - binary_accuracy: 0.9836\n",
      "Epoch 84/100\n",
      "14/14 [==============================] - 0s 1ms/step - loss: 0.0474 - binary_accuracy: 0.9836\n",
      "Epoch 85/100\n",
      "14/14 [==============================] - 0s 2ms/step - loss: 0.0471 - binary_accuracy: 0.9836\n",
      "Epoch 86/100\n",
      "14/14 [==============================] - 0s 2ms/step - loss: 0.0466 - binary_accuracy: 0.9836\n",
      "Epoch 87/100\n",
      "14/14 [==============================] - 0s 1ms/step - loss: 0.0464 - binary_accuracy: 0.9859\n",
      "Epoch 88/100\n",
      "14/14 [==============================] - 0s 1ms/step - loss: 0.0463 - binary_accuracy: 0.9836\n",
      "Epoch 89/100\n",
      "14/14 [==============================] - 0s 2ms/step - loss: 0.0457 - binary_accuracy: 0.9836\n",
      "Epoch 90/100\n",
      "14/14 [==============================] - 0s 1ms/step - loss: 0.0454 - binary_accuracy: 0.9859\n",
      "Epoch 91/100\n",
      "14/14 [==============================] - 0s 1ms/step - loss: 0.0450 - binary_accuracy: 0.9859\n",
      "Epoch 92/100\n",
      "14/14 [==============================] - 0s 2ms/step - loss: 0.0448 - binary_accuracy: 0.9859\n",
      "Epoch 93/100\n",
      "14/14 [==============================] - 0s 1ms/step - loss: 0.0444 - binary_accuracy: 0.9859\n",
      "Epoch 94/100\n",
      "14/14 [==============================] - 0s 1ms/step - loss: 0.0443 - binary_accuracy: 0.9859\n",
      "Epoch 95/100\n",
      "14/14 [==============================] - 0s 1ms/step - loss: 0.0438 - binary_accuracy: 0.9859\n",
      "Epoch 96/100\n",
      "14/14 [==============================] - 0s 1ms/step - loss: 0.0435 - binary_accuracy: 0.9859\n",
      "Epoch 97/100\n",
      "14/14 [==============================] - 0s 2ms/step - loss: 0.0433 - binary_accuracy: 0.9883\n",
      "Epoch 98/100\n",
      "14/14 [==============================] - 0s 1ms/step - loss: 0.0430 - binary_accuracy: 0.9883\n",
      "Epoch 99/100\n",
      "14/14 [==============================] - 0s 1ms/step - loss: 0.0426 - binary_accuracy: 0.9883\n",
      "Epoch 100/100\n",
      "14/14 [==============================] - 0s 2ms/step - loss: 0.0424 - binary_accuracy: 0.9883\n"
     ]
    },
    {
     "data": {
      "text/plain": [
       "<tensorflow.python.keras.callbacks.History at 0x1aac08c0580>"
      ]
     },
     "execution_count": 153,
     "metadata": {},
     "output_type": "execute_result"
    }
   ],
   "source": [
    "model.fit(x_train, y_train, epochs=100)"
   ]
  },
  {
   "cell_type": "code",
   "execution_count": 154,
   "metadata": {},
   "outputs": [
    {
     "name": "stdout",
     "output_type": "stream",
     "text": [
      "5/5 [==============================] - 0s 1ms/step - loss: 0.0551 - binary_accuracy: 0.9790\n"
     ]
    }
   ],
   "source": [
    "test_loss, test_accuracy = model.evaluate(x_test, y_test)"
   ]
  },
  {
   "cell_type": "code",
   "execution_count": 155,
   "metadata": {},
   "outputs": [
    {
     "name": "stdout",
     "output_type": "stream",
     "text": [
      "Test Loss: 0.055100373923778534\n",
      "Test Accuracy: 0.9790209531784058\n"
     ]
    }
   ],
   "source": [
    "print(f'Test Loss: {test_loss}\\nTest Accuracy: {test_accuracy}')"
   ]
  },
  {
   "cell_type": "code",
   "execution_count": 178,
   "metadata": {},
   "outputs": [
    {
     "data": {
      "text/plain": [
       "array([[0.61471105]], dtype=float32)"
      ]
     },
     "execution_count": 178,
     "metadata": {},
     "output_type": "execute_result"
    }
   ],
   "source": [
    "model.predict(np.array([x_test[8]]))"
   ]
  },
  {
   "cell_type": "code",
   "execution_count": 179,
   "metadata": {},
   "outputs": [
    {
     "data": {
      "text/plain": [
       "1"
      ]
     },
     "execution_count": 179,
     "metadata": {},
     "output_type": "execute_result"
    }
   ],
   "source": [
    "\n",
    "y_test[8]"
   ]
  },
  {
   "cell_type": "code",
   "execution_count": null,
   "metadata": {},
   "outputs": [],
   "source": []
  }
 ],
 "metadata": {
  "kernelspec": {
   "display_name": "Python 3",
   "language": "python",
   "name": "python3"
  },
  "language_info": {
   "codemirror_mode": {
    "name": "ipython",
    "version": 3
   },
   "file_extension": ".py",
   "mimetype": "text/x-python",
   "name": "python",
   "nbconvert_exporter": "python",
   "pygments_lexer": "ipython3",
   "version": "3.8.5"
  }
 },
 "nbformat": 4,
 "nbformat_minor": 4
}
